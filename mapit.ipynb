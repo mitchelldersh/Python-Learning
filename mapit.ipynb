{
 "cells": [
  {
   "cell_type": "code",
   "execution_count": 3,
   "metadata": {},
   "outputs": [],
   "source": [
    "import webbrowser, sys\n",
    "import pyperclip"
   ]
  },
  {
   "cell_type": "code",
   "execution_count": null,
   "metadata": {},
   "outputs": [],
   "source": [
    "sys.argv # ['mapit.py', '870', 'Valencia', 'St']\n",
    "\n",
    "# Check if command line arguments were passed\n",
    "\n",
    "if len(sys.argv) > 1: \n",
    "    # ['mapit.py', '870', 'Valencia', 'St']\n",
    "    address = ' '.join(sys.argv[1:])\n",
    "\n",
    "else:\n",
    "    address = pyperclip.paste()\n",
    "\n",
    "# https://www.google.com/maps/place/<ADDRESS>\n",
    "webbrowser.open('https://www.google.com/maps/place/' + address)\n"
   ]
  }
 ],
 "metadata": {
  "interpreter": {
   "hash": "391066293673a381f46fde4eab3a852297a75425a967fdd3dc9522d6b9db39cd"
  },
  "kernelspec": {
   "display_name": "Python 3.10.0 64-bit ('minimal_ds': conda)",
   "language": "python",
   "name": "python3"
  },
  "language_info": {
   "codemirror_mode": {
    "name": "ipython",
    "version": 3
   },
   "file_extension": ".py",
   "mimetype": "text/x-python",
   "name": "python",
   "nbconvert_exporter": "python",
   "pygments_lexer": "ipython3",
   "version": "3.10.0"
  },
  "orig_nbformat": 4
 },
 "nbformat": 4,
 "nbformat_minor": 2
}
